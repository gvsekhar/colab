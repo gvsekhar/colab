{
  "nbformat": 4,
  "nbformat_minor": 0,
  "metadata": {
    "colab": {
      "provenance": [],
      "include_colab_link": true
    },
    "kernelspec": {
      "name": "python3",
      "display_name": "Python 3"
    },
    "language_info": {
      "name": "python"
    }
  },
  "cells": [
    {
      "cell_type": "markdown",
      "metadata": {
        "id": "view-in-github",
        "colab_type": "text"
      },
      "source": [
        "<a href=\"https://colab.research.google.com/github/gvsekhar/colab/blob/master/Chain_of_Verification.ipynb\" target=\"_parent\"><img src=\"https://colab.research.google.com/assets/colab-badge.svg\" alt=\"Open In Colab\"/></a>"
      ]
    },
    {
      "cell_type": "code",
      "source": [
        "!pip install -qU langchain openai tiktoken"
      ],
      "metadata": {
        "colab": {
          "base_uri": "https://localhost:8080/"
        },
        "id": "mJ0-NEAm3ftn",
        "outputId": "adbed2ab-e3e7-4430-9af8-d773709c7014"
      },
      "execution_count": 1,
      "outputs": [
        {
          "output_type": "stream",
          "name": "stdout",
          "text": [
            "\u001b[2K     \u001b[90m━━━━━━━━━━━━━━━━━━━━━━━━━━━━━━━━━━━━━━━━\u001b[0m \u001b[32m1.9/1.9 MB\u001b[0m \u001b[31m10.1 MB/s\u001b[0m eta \u001b[36m0:00:00\u001b[0m\n",
            "\u001b[2K     \u001b[90m━━━━━━━━━━━━━━━━━━━━━━━━━━━━━━━━━━━━━━━━\u001b[0m \u001b[32m77.0/77.0 kB\u001b[0m \u001b[31m11.2 MB/s\u001b[0m eta \u001b[36m0:00:00\u001b[0m\n",
            "\u001b[2K     \u001b[90m━━━━━━━━━━━━━━━━━━━━━━━━━━━━━━━━━━━━━━━━\u001b[0m \u001b[32m2.0/2.0 MB\u001b[0m \u001b[31m22.7 MB/s\u001b[0m eta \u001b[36m0:00:00\u001b[0m\n",
            "\u001b[2K     \u001b[90m━━━━━━━━━━━━━━━━━━━━━━━━━━━━━━━━━━━━━━━━\u001b[0m \u001b[32m41.0/41.0 kB\u001b[0m \u001b[31m5.9 MB/s\u001b[0m eta \u001b[36m0:00:00\u001b[0m\n",
            "\u001b[2K     \u001b[90m━━━━━━━━━━━━━━━━━━━━━━━━━━━━━━━━━━━━━━━━\u001b[0m \u001b[32m49.4/49.4 kB\u001b[0m \u001b[31m5.1 MB/s\u001b[0m eta \u001b[36m0:00:00\u001b[0m\n",
            "\u001b[?25h\u001b[31mERROR: pip's dependency resolver does not currently take into account all the packages that are installed. This behaviour is the source of the following dependency conflicts.\n",
            "llmx 0.0.15a0 requires cohere, which is not installed.\u001b[0m\u001b[31m\n",
            "\u001b[0m"
          ]
        }
      ]
    },
    {
      "cell_type": "code",
      "execution_count": null,
      "metadata": {
        "id": "y0Q8CHat3Tdu"
      },
      "outputs": [],
      "source": [
        "import os\n",
        "import langchain\n",
        "langchain.debug=True\n",
        "from langchain import OpenAI, PromptTemplate\n",
        "from langchain.chat_models import ChatOpenAI\n",
        "from langchain.chains import SequentialChain, LLMChain\n",
        "from langchain.output_parsers import PydanticOutputParser\n",
        "from langchain.pydantic_v1 import BaseModel, Field"
      ]
    },
    {
      "cell_type": "code",
      "source": [
        "os.environ[\"OPENAI_API_KEY\"] = \"YOUR_API_KEY\"\n",
        "llm = ChatOpenAI(temperature=0, model_name=\"gpt-4\")\n",
        "# llm = OpenAI(temperature=0, model_name=\"gpt-3.5-turbo-instruct\") # GPT-3.5 tends to work less well in generating a consistent final response\n",
        "\n",
        "\n",
        "query = \"List 5 UK politicians born in London\""
      ],
      "metadata": {
        "id": "z10fg1UU3eL2"
      },
      "execution_count": null,
      "outputs": []
    },
    {
      "cell_type": "markdown",
      "source": [
        "# 1. Baseline response chain"
      ],
      "metadata": {
        "id": "2N1tFe3F5Th8"
      }
    },
    {
      "cell_type": "code",
      "source": [
        "input_variables = [\"query\"]\n",
        "base_response_output_key = \"base_response\"\n",
        "base_response_template = \"\"\"Question: {query} Answer:\"\"\"\n",
        "base_repsonse_prompt_template = PromptTemplate(\n",
        "    input_variables=input_variables, template=base_response_template\n",
        ")\n",
        "\n",
        "base_response_chain = LLMChain(\n",
        "    llm=llm, prompt=base_repsonse_prompt_template, output_key=base_response_output_key\n",
        ")"
      ],
      "metadata": {
        "id": "RBLQX9Ms3x3B"
      },
      "execution_count": null,
      "outputs": []
    },
    {
      "cell_type": "markdown",
      "source": [
        "# 2. Plan verifications chain"
      ],
      "metadata": {
        "id": "QERn8SLg5ewO"
      }
    },
    {
      "cell_type": "code",
      "source": [
        "plan_verifications_template = \"\"\"\n",
        "Given the below Question and answer, generate a series of verification questions that test the factual claims in the original baseline response.\n",
        "For example if part of a longform model response contains the statement “The Mexican–American War\n",
        "was an armed conflict between the United States and Mexico from 1846 to 1848”, then one possible\n",
        "verification question to check those dates could be “When did the Mexican American war start and\n",
        "end?”\n",
        "\n",
        "Question: {query}\n",
        "Answer: {base_response}\n",
        "\n",
        "<fact in passage>, <verification question, generated by combining the query and the fact>\n",
        "\n",
        "{format_instructions}\n",
        "\"\"\"\n",
        "\n",
        "\n",
        "class PlanVerificationsOutput(BaseModel):\n",
        "    query: str = Field(description=\"The user's query\")\n",
        "    base_response: str = Field(description=\"The response to the user's query\")\n",
        "    facts_and_verification_questions: dict[str, str] = Field(\n",
        "        description=\"Facts (as the dictionary keys) extracted from the response and verification questions related to the query (as the dictionary values)\"\n",
        "    )\n",
        "\n",
        "\n",
        "plan_verifications_output_parser = PydanticOutputParser(\n",
        "    pydantic_object=PlanVerificationsOutput\n",
        ")\n",
        "\n",
        "plan_verifications_prompt_template = PromptTemplate(\n",
        "    input_variables=input_variables + [base_response_output_key],\n",
        "    template=plan_verifications_template,\n",
        "    partial_variables={\n",
        "        \"format_instructions\": plan_verifications_output_parser.get_format_instructions()\n",
        "    },\n",
        ")\n",
        "plan_verifications_chain = LLMChain(\n",
        "    llm=llm,\n",
        "    prompt=plan_verifications_prompt_template,\n",
        "    output_key=\"output\",\n",
        "    output_parser=plan_verifications_output_parser,\n",
        ")"
      ],
      "metadata": {
        "id": "1QsamWRy34kd"
      },
      "execution_count": null,
      "outputs": []
    },
    {
      "cell_type": "markdown",
      "source": [
        "# Baseline + Plan verification sequential chain"
      ],
      "metadata": {
        "id": "E1XNMebr5oyu"
      }
    },
    {
      "cell_type": "code",
      "source": [
        "answer_and_plan_verification = SequentialChain(\n",
        "    chains=[base_response_chain, plan_verifications_chain],\n",
        "    input_variables=[\"query\"],\n",
        "    output_variables=[\"output\"],\n",
        "    verbose=True)\n",
        "\n",
        "\n",
        "intermediate_result = answer_and_plan_verification.run(query)"
      ],
      "metadata": {
        "colab": {
          "base_uri": "https://localhost:8080/"
        },
        "id": "jWw6G_Gj392B",
        "outputId": "8fab8a3a-9e7b-4fbd-b2e2-102c7524a1f7"
      },
      "execution_count": null,
      "outputs": [
        {
          "output_type": "stream",
          "name": "stdout",
          "text": [
            "\u001b[32;1m\u001b[1;3m[chain/start]\u001b[0m \u001b[1m[1:chain:SequentialChain] Entering Chain run with input:\n",
            "\u001b[0m{\n",
            "  \"query\": \"List 5 UK politicians born in London\"\n",
            "}\n",
            "\u001b[32;1m\u001b[1;3m[chain/start]\u001b[0m \u001b[1m[1:chain:SequentialChain > 2:chain:LLMChain] Entering Chain run with input:\n",
            "\u001b[0m{\n",
            "  \"query\": \"List 5 UK politicians born in London\"\n",
            "}\n",
            "\u001b[32;1m\u001b[1;3m[llm/start]\u001b[0m \u001b[1m[1:chain:SequentialChain > 2:chain:LLMChain > 3:llm:ChatOpenAI] Entering LLM run with input:\n",
            "\u001b[0m{\n",
            "  \"prompts\": [\n",
            "    \"Human: Question: List 5 UK politicians born in London Answer:\"\n",
            "  ]\n",
            "}\n",
            "\u001b[36;1m\u001b[1;3m[llm/end]\u001b[0m \u001b[1m[1:chain:SequentialChain > 2:chain:LLMChain > 3:llm:ChatOpenAI] [2.78s] Exiting LLM run with output:\n",
            "\u001b[0m{\n",
            "  \"generations\": [\n",
            "    [\n",
            "      {\n",
            "        \"text\": \"1. Boris Johnson\\n2. David Cameron\\n3. Sadiq Khan\\n4. Jeremy Corbyn\\n5. Theresa May\",\n",
            "        \"generation_info\": {\n",
            "          \"finish_reason\": \"stop\"\n",
            "        },\n",
            "        \"message\": {\n",
            "          \"lc\": 1,\n",
            "          \"type\": \"constructor\",\n",
            "          \"id\": [\n",
            "            \"langchain\",\n",
            "            \"schema\",\n",
            "            \"messages\",\n",
            "            \"AIMessage\"\n",
            "          ],\n",
            "          \"kwargs\": {\n",
            "            \"content\": \"1. Boris Johnson\\n2. David Cameron\\n3. Sadiq Khan\\n4. Jeremy Corbyn\\n5. Theresa May\",\n",
            "            \"additional_kwargs\": {}\n",
            "          }\n",
            "        }\n",
            "      }\n",
            "    ]\n",
            "  ],\n",
            "  \"llm_output\": {\n",
            "    \"token_usage\": {\n",
            "      \"prompt_tokens\": 19,\n",
            "      \"completion_tokens\": 26,\n",
            "      \"total_tokens\": 45\n",
            "    },\n",
            "    \"model_name\": \"gpt-4\"\n",
            "  },\n",
            "  \"run\": null\n",
            "}\n",
            "\u001b[36;1m\u001b[1;3m[chain/end]\u001b[0m \u001b[1m[1:chain:SequentialChain > 2:chain:LLMChain] [2.78s] Exiting Chain run with output:\n",
            "\u001b[0m{\n",
            "  \"base_response\": \"1. Boris Johnson\\n2. David Cameron\\n3. Sadiq Khan\\n4. Jeremy Corbyn\\n5. Theresa May\"\n",
            "}\n",
            "\u001b[32;1m\u001b[1;3m[chain/start]\u001b[0m \u001b[1m[1:chain:SequentialChain > 4:chain:LLMChain] Entering Chain run with input:\n",
            "\u001b[0m{\n",
            "  \"query\": \"List 5 UK politicians born in London\",\n",
            "  \"base_response\": \"1. Boris Johnson\\n2. David Cameron\\n3. Sadiq Khan\\n4. Jeremy Corbyn\\n5. Theresa May\"\n",
            "}\n",
            "\u001b[32;1m\u001b[1;3m[llm/start]\u001b[0m \u001b[1m[1:chain:SequentialChain > 4:chain:LLMChain > 5:llm:ChatOpenAI] Entering LLM run with input:\n",
            "\u001b[0m{\n",
            "  \"prompts\": [\n",
            "    \"Human: \\nGiven the below Question and answer, generate a series of verification questions that test the factual claims in the original baseline response.\\nFor example if part of a longform model response contains the statement “The Mexican–American War\\nwas an armed conflict between the United States and Mexico from 1846 to 1848”, then one possible\\nverification question to check those dates could be “When did the Mexican American war start and\\nend?”\\n\\nQuestion: List 5 UK politicians born in London\\nAnswer: 1. Boris Johnson\\n2. David Cameron\\n3. Sadiq Khan\\n4. Jeremy Corbyn\\n5. Theresa May\\n\\n<fact in passage>, <verification question, generated by combining the query and the fact>\\n\\nThe output should be formatted as a JSON instance that conforms to the JSON schema below.\\n\\nAs an example, for the schema {\\\"properties\\\": {\\\"foo\\\": {\\\"title\\\": \\\"Foo\\\", \\\"description\\\": \\\"a list of strings\\\", \\\"type\\\": \\\"array\\\", \\\"items\\\": {\\\"type\\\": \\\"string\\\"}}}, \\\"required\\\": [\\\"foo\\\"]}\\nthe object {\\\"foo\\\": [\\\"bar\\\", \\\"baz\\\"]} is a well-formatted instance of the schema. The object {\\\"properties\\\": {\\\"foo\\\": [\\\"bar\\\", \\\"baz\\\"]}} is not well-formatted.\\n\\nHere is the output schema:\\n```\\n{\\\"properties\\\": {\\\"query\\\": {\\\"title\\\": \\\"Query\\\", \\\"description\\\": \\\"The user's query\\\", \\\"type\\\": \\\"string\\\"}, \\\"base_response\\\": {\\\"title\\\": \\\"Base Response\\\", \\\"description\\\": \\\"The response to the user's query\\\", \\\"type\\\": \\\"string\\\"}, \\\"facts_and_verification_questions\\\": {\\\"title\\\": \\\"Facts And Verification Questions\\\", \\\"description\\\": \\\"Facts (as the dictionary keys) extracted from the response and verification questions related to the query (as the dictionary values)\\\", \\\"type\\\": \\\"object\\\", \\\"additionalProperties\\\": {\\\"type\\\": \\\"string\\\"}}}, \\\"required\\\": [\\\"query\\\", \\\"base_response\\\", \\\"facts_and_verification_questions\\\"]}\\n```\"\n",
            "  ]\n",
            "}\n",
            "\u001b[36;1m\u001b[1;3m[llm/end]\u001b[0m \u001b[1m[1:chain:SequentialChain > 4:chain:LLMChain > 5:llm:ChatOpenAI] [8.49s] Exiting LLM run with output:\n",
            "\u001b[0m{\n",
            "  \"generations\": [\n",
            "    [\n",
            "      {\n",
            "        \"text\": \"{\\n\\\"query\\\": \\\"List 5 UK politicians born in London\\\",\\n\\\"base_response\\\": \\\"1. Boris Johnson 2. David Cameron 3. Sadiq Khan 4. Jeremy Corbyn 5. Theresa May\\\",\\n\\\"facts_and_verification_questions\\\": {\\n\\\"Boris Johnson is born in London\\\": \\\"Was Boris Johnson born in London?\\\",\\n\\\"David Cameron is born in London\\\": \\\"Was David Cameron born in London?\\\",\\n\\\"Sadiq Khan is born in London\\\": \\\"Was Sadiq Khan born in London?\\\",\\n\\\"Jeremy Corbyn is born in London\\\": \\\"Was Jeremy Corbyn born in London?\\\",\\n\\\"Theresa May is born in London\\\": \\\"Was Theresa May born in London?\\\"\\n}\\n}\",\n",
            "        \"generation_info\": {\n",
            "          \"finish_reason\": \"stop\"\n",
            "        },\n",
            "        \"message\": {\n",
            "          \"lc\": 1,\n",
            "          \"type\": \"constructor\",\n",
            "          \"id\": [\n",
            "            \"langchain\",\n",
            "            \"schema\",\n",
            "            \"messages\",\n",
            "            \"AIMessage\"\n",
            "          ],\n",
            "          \"kwargs\": {\n",
            "            \"content\": \"{\\n\\\"query\\\": \\\"List 5 UK politicians born in London\\\",\\n\\\"base_response\\\": \\\"1. Boris Johnson 2. David Cameron 3. Sadiq Khan 4. Jeremy Corbyn 5. Theresa May\\\",\\n\\\"facts_and_verification_questions\\\": {\\n\\\"Boris Johnson is born in London\\\": \\\"Was Boris Johnson born in London?\\\",\\n\\\"David Cameron is born in London\\\": \\\"Was David Cameron born in London?\\\",\\n\\\"Sadiq Khan is born in London\\\": \\\"Was Sadiq Khan born in London?\\\",\\n\\\"Jeremy Corbyn is born in London\\\": \\\"Was Jeremy Corbyn born in London?\\\",\\n\\\"Theresa May is born in London\\\": \\\"Was Theresa May born in London?\\\"\\n}\\n}\",\n",
            "            \"additional_kwargs\": {}\n",
            "          }\n",
            "        }\n",
            "      }\n",
            "    ]\n",
            "  ],\n",
            "  \"llm_output\": {\n",
            "    \"token_usage\": {\n",
            "      \"prompt_tokens\": 407,\n",
            "      \"completion_tokens\": 139,\n",
            "      \"total_tokens\": 546\n",
            "    },\n",
            "    \"model_name\": \"gpt-4\"\n",
            "  },\n",
            "  \"run\": null\n",
            "}\n",
            "\u001b[36;1m\u001b[1;3m[chain/end]\u001b[0m \u001b[1m[1:chain:SequentialChain > 4:chain:LLMChain] [8.49s] Exiting Chain run with output:\n",
            "\u001b[0m[outputs]\n",
            "\u001b[36;1m\u001b[1;3m[chain/end]\u001b[0m \u001b[1m[1:chain:SequentialChain] [11.27s] Exiting Chain run with output:\n",
            "\u001b[0m[outputs]\n"
          ]
        }
      ]
    },
    {
      "cell_type": "code",
      "source": [
        "intermediate_result.base_response"
      ],
      "metadata": {
        "colab": {
          "base_uri": "https://localhost:8080/",
          "height": 35
        },
        "id": "GGlEvtG57C-2",
        "outputId": "d12f403e-7dd4-4a4a-e792-fad6a74f7395"
      },
      "execution_count": null,
      "outputs": [
        {
          "output_type": "execute_result",
          "data": {
            "text/plain": [
              "'1. Boris Johnson 2. David Cameron 3. Sadiq Khan 4. Jeremy Corbyn 5. Theresa May'"
            ],
            "application/vnd.google.colaboratory.intrinsic+json": {
              "type": "string"
            }
          },
          "metadata": {},
          "execution_count": 11
        }
      ]
    },
    {
      "cell_type": "code",
      "source": [
        "intermediate_result.facts_and_verification_questions"
      ],
      "metadata": {
        "colab": {
          "base_uri": "https://localhost:8080/"
        },
        "id": "6hahSOEL6zyc",
        "outputId": "dce6ec5c-15eb-44c9-b588-b3c580ab8a60"
      },
      "execution_count": null,
      "outputs": [
        {
          "output_type": "execute_result",
          "data": {
            "text/plain": [
              "{'Boris Johnson is born in London': 'Was Boris Johnson born in London?',\n",
              " 'David Cameron is born in London': 'Was David Cameron born in London?',\n",
              " 'Sadiq Khan is born in London': 'Was Sadiq Khan born in London?',\n",
              " 'Jeremy Corbyn is born in London': 'Was Jeremy Corbyn born in London?',\n",
              " 'Theresa May is born in London': 'Was Theresa May born in London?'}"
            ]
          },
          "metadata": {},
          "execution_count": 12
        }
      ]
    },
    {
      "cell_type": "markdown",
      "source": [
        "# 3. Execute verifications"
      ],
      "metadata": {
        "id": "7m4hbSCl6C13"
      }
    },
    {
      "cell_type": "code",
      "source": [
        "claimed_facts = list(intermediate_result.facts_and_verification_questions.keys())\n",
        "verification_questions = list(\n",
        "    intermediate_result.facts_and_verification_questions.values()\n",
        ")"
      ],
      "metadata": {
        "id": "D5UD6_yk5zuh"
      },
      "execution_count": null,
      "outputs": []
    },
    {
      "cell_type": "code",
      "source": [
        "verify_results_str = \"\"\n",
        "verify_input_variables = [\"question\"]\n",
        "verify_output_key = \"answer\"\n",
        "verify_template = \"\"\"{question}\"\"\"\n",
        "\n",
        "verify_prompt_template = PromptTemplate(\n",
        "    input_variables=verify_input_variables, template=verify_template\n",
        ")\n",
        "\n",
        "verify_chain = LLMChain(\n",
        "    llm=llm, prompt=verify_prompt_template, output_key=verify_output_key\n",
        ")\n",
        "for i in range(len(verification_questions)):\n",
        "    claimed_fact = claimed_facts[i]\n",
        "    question = verification_questions[i]\n",
        "    answer = verify_chain.run(question)\n",
        "    answer = answer.lstrip(\"\\n\")\n",
        "    verify_results_str += f\"Question: {question}\\nAnswer: {answer}\\n\\n\"\n"
      ],
      "metadata": {
        "colab": {
          "base_uri": "https://localhost:8080/"
        },
        "id": "4d0Z4SLL54Yp",
        "outputId": "1da1d8e9-c400-4c62-8c85-ecfcfc0839c1"
      },
      "execution_count": null,
      "outputs": [
        {
          "output_type": "stream",
          "name": "stdout",
          "text": [
            "\u001b[32;1m\u001b[1;3m[chain/start]\u001b[0m \u001b[1m[1:chain:LLMChain] Entering Chain run with input:\n",
            "\u001b[0m{\n",
            "  \"question\": \"Was Boris Johnson born in London?\"\n",
            "}\n",
            "\u001b[32;1m\u001b[1;3m[llm/start]\u001b[0m \u001b[1m[1:chain:LLMChain > 2:llm:ChatOpenAI] Entering LLM run with input:\n",
            "\u001b[0m{\n",
            "  \"prompts\": [\n",
            "    \"Human: Was Boris Johnson born in London?\"\n",
            "  ]\n",
            "}\n",
            "\u001b[36;1m\u001b[1;3m[llm/end]\u001b[0m \u001b[1m[1:chain:LLMChain > 2:llm:ChatOpenAI] [1.23s] Exiting LLM run with output:\n",
            "\u001b[0m{\n",
            "  \"generations\": [\n",
            "    [\n",
            "      {\n",
            "        \"text\": \"No, Boris Johnson was born in New York City, United States.\",\n",
            "        \"generation_info\": {\n",
            "          \"finish_reason\": \"stop\"\n",
            "        },\n",
            "        \"message\": {\n",
            "          \"lc\": 1,\n",
            "          \"type\": \"constructor\",\n",
            "          \"id\": [\n",
            "            \"langchain\",\n",
            "            \"schema\",\n",
            "            \"messages\",\n",
            "            \"AIMessage\"\n",
            "          ],\n",
            "          \"kwargs\": {\n",
            "            \"content\": \"No, Boris Johnson was born in New York City, United States.\",\n",
            "            \"additional_kwargs\": {}\n",
            "          }\n",
            "        }\n",
            "      }\n",
            "    ]\n",
            "  ],\n",
            "  \"llm_output\": {\n",
            "    \"token_usage\": {\n",
            "      \"prompt_tokens\": 14,\n",
            "      \"completion_tokens\": 14,\n",
            "      \"total_tokens\": 28\n",
            "    },\n",
            "    \"model_name\": \"gpt-4\"\n",
            "  },\n",
            "  \"run\": null\n",
            "}\n",
            "\u001b[36;1m\u001b[1;3m[chain/end]\u001b[0m \u001b[1m[1:chain:LLMChain] [1.23s] Exiting Chain run with output:\n",
            "\u001b[0m{\n",
            "  \"answer\": \"No, Boris Johnson was born in New York City, United States.\"\n",
            "}\n",
            "\u001b[32;1m\u001b[1;3m[chain/start]\u001b[0m \u001b[1m[1:chain:LLMChain] Entering Chain run with input:\n",
            "\u001b[0m{\n",
            "  \"question\": \"Was David Cameron born in London?\"\n",
            "}\n",
            "\u001b[32;1m\u001b[1;3m[llm/start]\u001b[0m \u001b[1m[1:chain:LLMChain > 2:llm:ChatOpenAI] Entering LLM run with input:\n",
            "\u001b[0m{\n",
            "  \"prompts\": [\n",
            "    \"Human: Was David Cameron born in London?\"\n",
            "  ]\n",
            "}\n",
            "\u001b[36;1m\u001b[1;3m[llm/end]\u001b[0m \u001b[1m[1:chain:LLMChain > 2:llm:ChatOpenAI] [971ms] Exiting LLM run with output:\n",
            "\u001b[0m{\n",
            "  \"generations\": [\n",
            "    [\n",
            "      {\n",
            "        \"text\": \"Yes, David Cameron was born in London, England.\",\n",
            "        \"generation_info\": {\n",
            "          \"finish_reason\": \"stop\"\n",
            "        },\n",
            "        \"message\": {\n",
            "          \"lc\": 1,\n",
            "          \"type\": \"constructor\",\n",
            "          \"id\": [\n",
            "            \"langchain\",\n",
            "            \"schema\",\n",
            "            \"messages\",\n",
            "            \"AIMessage\"\n",
            "          ],\n",
            "          \"kwargs\": {\n",
            "            \"content\": \"Yes, David Cameron was born in London, England.\",\n",
            "            \"additional_kwargs\": {}\n",
            "          }\n",
            "        }\n",
            "      }\n",
            "    ]\n",
            "  ],\n",
            "  \"llm_output\": {\n",
            "    \"token_usage\": {\n",
            "      \"prompt_tokens\": 14,\n",
            "      \"completion_tokens\": 11,\n",
            "      \"total_tokens\": 25\n",
            "    },\n",
            "    \"model_name\": \"gpt-4\"\n",
            "  },\n",
            "  \"run\": null\n",
            "}\n",
            "\u001b[36;1m\u001b[1;3m[chain/end]\u001b[0m \u001b[1m[1:chain:LLMChain] [972ms] Exiting Chain run with output:\n",
            "\u001b[0m{\n",
            "  \"answer\": \"Yes, David Cameron was born in London, England.\"\n",
            "}\n",
            "\u001b[32;1m\u001b[1;3m[chain/start]\u001b[0m \u001b[1m[1:chain:LLMChain] Entering Chain run with input:\n",
            "\u001b[0m{\n",
            "  \"question\": \"Was Sadiq Khan born in London?\"\n",
            "}\n",
            "\u001b[32;1m\u001b[1;3m[llm/start]\u001b[0m \u001b[1m[1:chain:LLMChain > 2:llm:ChatOpenAI] Entering LLM run with input:\n",
            "\u001b[0m{\n",
            "  \"prompts\": [\n",
            "    \"Human: Was Sadiq Khan born in London?\"\n",
            "  ]\n",
            "}\n",
            "\u001b[36;1m\u001b[1;3m[llm/end]\u001b[0m \u001b[1m[1:chain:LLMChain > 2:llm:ChatOpenAI] [1.63s] Exiting LLM run with output:\n",
            "\u001b[0m{\n",
            "  \"generations\": [\n",
            "    [\n",
            "      {\n",
            "        \"text\": \"Yes, Sadiq Khan was born in London, England.\",\n",
            "        \"generation_info\": {\n",
            "          \"finish_reason\": \"stop\"\n",
            "        },\n",
            "        \"message\": {\n",
            "          \"lc\": 1,\n",
            "          \"type\": \"constructor\",\n",
            "          \"id\": [\n",
            "            \"langchain\",\n",
            "            \"schema\",\n",
            "            \"messages\",\n",
            "            \"AIMessage\"\n",
            "          ],\n",
            "          \"kwargs\": {\n",
            "            \"content\": \"Yes, Sadiq Khan was born in London, England.\",\n",
            "            \"additional_kwargs\": {}\n",
            "          }\n",
            "        }\n",
            "      }\n",
            "    ]\n",
            "  ],\n",
            "  \"llm_output\": {\n",
            "    \"token_usage\": {\n",
            "      \"prompt_tokens\": 16,\n",
            "      \"completion_tokens\": 13,\n",
            "      \"total_tokens\": 29\n",
            "    },\n",
            "    \"model_name\": \"gpt-4\"\n",
            "  },\n",
            "  \"run\": null\n",
            "}\n",
            "\u001b[36;1m\u001b[1;3m[chain/end]\u001b[0m \u001b[1m[1:chain:LLMChain] [1.63s] Exiting Chain run with output:\n",
            "\u001b[0m{\n",
            "  \"answer\": \"Yes, Sadiq Khan was born in London, England.\"\n",
            "}\n",
            "\u001b[32;1m\u001b[1;3m[chain/start]\u001b[0m \u001b[1m[1:chain:LLMChain] Entering Chain run with input:\n",
            "\u001b[0m{\n",
            "  \"question\": \"Was Jeremy Corbyn born in London?\"\n",
            "}\n",
            "\u001b[32;1m\u001b[1;3m[llm/start]\u001b[0m \u001b[1m[1:chain:LLMChain > 2:llm:ChatOpenAI] Entering LLM run with input:\n",
            "\u001b[0m{\n",
            "  \"prompts\": [\n",
            "    \"Human: Was Jeremy Corbyn born in London?\"\n",
            "  ]\n",
            "}\n",
            "\u001b[36;1m\u001b[1;3m[llm/end]\u001b[0m \u001b[1m[1:chain:LLMChain > 2:llm:ChatOpenAI] [1.76s] Exiting LLM run with output:\n",
            "\u001b[0m{\n",
            "  \"generations\": [\n",
            "    [\n",
            "      {\n",
            "        \"text\": \"No, Jeremy Corbyn was not born in London. He was born in Chippenham, England.\",\n",
            "        \"generation_info\": {\n",
            "          \"finish_reason\": \"stop\"\n",
            "        },\n",
            "        \"message\": {\n",
            "          \"lc\": 1,\n",
            "          \"type\": \"constructor\",\n",
            "          \"id\": [\n",
            "            \"langchain\",\n",
            "            \"schema\",\n",
            "            \"messages\",\n",
            "            \"AIMessage\"\n",
            "          ],\n",
            "          \"kwargs\": {\n",
            "            \"content\": \"No, Jeremy Corbyn was not born in London. He was born in Chippenham, England.\",\n",
            "            \"additional_kwargs\": {}\n",
            "          }\n",
            "        }\n",
            "      }\n",
            "    ]\n",
            "  ],\n",
            "  \"llm_output\": {\n",
            "    \"token_usage\": {\n",
            "      \"prompt_tokens\": 14,\n",
            "      \"completion_tokens\": 20,\n",
            "      \"total_tokens\": 34\n",
            "    },\n",
            "    \"model_name\": \"gpt-4\"\n",
            "  },\n",
            "  \"run\": null\n",
            "}\n",
            "\u001b[36;1m\u001b[1;3m[chain/end]\u001b[0m \u001b[1m[1:chain:LLMChain] [1.76s] Exiting Chain run with output:\n",
            "\u001b[0m{\n",
            "  \"answer\": \"No, Jeremy Corbyn was not born in London. He was born in Chippenham, England.\"\n",
            "}\n",
            "\u001b[32;1m\u001b[1;3m[chain/start]\u001b[0m \u001b[1m[1:chain:LLMChain] Entering Chain run with input:\n",
            "\u001b[0m{\n",
            "  \"question\": \"Was Theresa May born in London?\"\n",
            "}\n",
            "\u001b[32;1m\u001b[1;3m[llm/start]\u001b[0m \u001b[1m[1:chain:LLMChain > 2:llm:ChatOpenAI] Entering LLM run with input:\n",
            "\u001b[0m{\n",
            "  \"prompts\": [\n",
            "    \"Human: Was Theresa May born in London?\"\n",
            "  ]\n",
            "}\n",
            "\u001b[36;1m\u001b[1;3m[llm/end]\u001b[0m \u001b[1m[1:chain:LLMChain > 2:llm:ChatOpenAI] [1.43s] Exiting LLM run with output:\n",
            "\u001b[0m{\n",
            "  \"generations\": [\n",
            "    [\n",
            "      {\n",
            "        \"text\": \"No, Theresa May was born on October 1, 1956 in Eastbourne, Sussex, England.\",\n",
            "        \"generation_info\": {\n",
            "          \"finish_reason\": \"stop\"\n",
            "        },\n",
            "        \"message\": {\n",
            "          \"lc\": 1,\n",
            "          \"type\": \"constructor\",\n",
            "          \"id\": [\n",
            "            \"langchain\",\n",
            "            \"schema\",\n",
            "            \"messages\",\n",
            "            \"AIMessage\"\n",
            "          ],\n",
            "          \"kwargs\": {\n",
            "            \"content\": \"No, Theresa May was born on October 1, 1956 in Eastbourne, Sussex, England.\",\n",
            "            \"additional_kwargs\": {}\n",
            "          }\n",
            "        }\n",
            "      }\n",
            "    ]\n",
            "  ],\n",
            "  \"llm_output\": {\n",
            "    \"token_usage\": {\n",
            "      \"prompt_tokens\": 14,\n",
            "      \"completion_tokens\": 22,\n",
            "      \"total_tokens\": 36\n",
            "    },\n",
            "    \"model_name\": \"gpt-4\"\n",
            "  },\n",
            "  \"run\": null\n",
            "}\n",
            "\u001b[36;1m\u001b[1;3m[chain/end]\u001b[0m \u001b[1m[1:chain:LLMChain] [1.43s] Exiting Chain run with output:\n",
            "\u001b[0m{\n",
            "  \"answer\": \"No, Theresa May was born on October 1, 1956 in Eastbourne, Sussex, England.\"\n",
            "}\n"
          ]
        }
      ]
    },
    {
      "cell_type": "code",
      "source": [
        "print(verify_results_str)"
      ],
      "metadata": {
        "colab": {
          "base_uri": "https://localhost:8080/"
        },
        "id": "2S66o12GxB2N",
        "outputId": "6e6480b7-5a53-4672-9e09-92fd806f751a"
      },
      "execution_count": null,
      "outputs": [
        {
          "output_type": "stream",
          "name": "stdout",
          "text": [
            "Question: Was Boris Johnson born in London?\n",
            "Answer: No, Boris Johnson was born in New York City, United States.\n",
            "\n",
            "Question: Was David Cameron born in London?\n",
            "Answer: Yes, David Cameron was born in London, England.\n",
            "\n",
            "Question: Was Sadiq Khan born in London?\n",
            "Answer: Yes, Sadiq Khan was born in London, England.\n",
            "\n",
            "Question: Was Jeremy Corbyn born in London?\n",
            "Answer: No, Jeremy Corbyn was not born in London. He was born in Chippenham, England.\n",
            "\n",
            "Question: Was Theresa May born in London?\n",
            "Answer: No, Theresa May was born on October 1, 1956 in Eastbourne, Sussex, England.\n",
            "\n",
            "\n"
          ]
        }
      ]
    },
    {
      "cell_type": "markdown",
      "source": [
        "# 4. Generate final response"
      ],
      "metadata": {
        "id": "9xUB2T9Y5-ki"
      }
    },
    {
      "cell_type": "code",
      "source": [
        "final_response_input_variables = [\"query\", \"base_response\", \"verify_results\"]\n",
        "final_response_template = \"\"\"Given the ORIGINAL_QUESTION and the ORIGINAL_RESPONSE,\n",
        "revise the ORIGINAL_RESPONSE (if applicable) such that it is consistent with information in VERIFIED_SOURCE.\n",
        "Only keep consistent information.\n",
        "\n",
        "<ORIGINAL_QUESTION>\n",
        "{query}\n",
        "\n",
        "<ORIGINAL_RESPONSE>\n",
        "{base_response}\n",
        "\n",
        "<VERIFIED_SOURCE>\n",
        "{verify_results}\n",
        "\n",
        "Final response:\n",
        "\"\"\"\n",
        "final_response_prompt_template = PromptTemplate(\n",
        "    input_variables=final_response_input_variables,\n",
        "    template=final_response_template,\n",
        ")\n",
        "\n",
        "final_response_chain = LLMChain(llm=llm, prompt=final_response_prompt_template)\n",
        "\n",
        "final_response = final_response_chain.run(\n",
        "    query=intermediate_result.query,\n",
        "    base_response=intermediate_result.base_response,\n",
        "    verify_results=verify_results_str,\n",
        ")"
      ],
      "metadata": {
        "colab": {
          "base_uri": "https://localhost:8080/"
        },
        "id": "fcRuvNWw5-EN",
        "outputId": "c584aeee-629b-4227-896d-3c15b9755260"
      },
      "execution_count": null,
      "outputs": [
        {
          "output_type": "stream",
          "name": "stdout",
          "text": [
            "\u001b[32;1m\u001b[1;3m[chain/start]\u001b[0m \u001b[1m[1:chain:LLMChain] Entering Chain run with input:\n",
            "\u001b[0m{\n",
            "  \"query\": \"List 5 UK politicians born in London\",\n",
            "  \"base_response\": \"1. Boris Johnson 2. David Cameron 3. Sadiq Khan 4. Jeremy Corbyn 5. Theresa May\",\n",
            "  \"verify_results\": \"Question: Was Boris Johnson born in London?\\nAnswer: No, Boris Johnson was born in New York City, United States.\\n\\nQuestion: Was David Cameron born in London?\\nAnswer: Yes, David Cameron was born in London, England.\\n\\nQuestion: Was Sadiq Khan born in London?\\nAnswer: Yes, Sadiq Khan was born in London, England.\\n\\nQuestion: Was Jeremy Corbyn born in London?\\nAnswer: No, Jeremy Corbyn was not born in London. He was born in Chippenham, England.\\n\\nQuestion: Was Theresa May born in London?\\nAnswer: No, Theresa May was born on October 1, 1956 in Eastbourne, Sussex, England.\\n\\n\"\n",
            "}\n",
            "\u001b[32;1m\u001b[1;3m[llm/start]\u001b[0m \u001b[1m[1:chain:LLMChain > 2:llm:ChatOpenAI] Entering LLM run with input:\n",
            "\u001b[0m{\n",
            "  \"prompts\": [\n",
            "    \"Human: Given the ORIGINAL_QUESTION and the ORIGINAL_RESPONSE,\\nrevise the ORIGINAL_RESPONSE (if applicable) such that it is consistent with information in VERIFIED_SOURCE.\\nOnly keep consistent information.\\n\\n<ORIGINAL_QUESTION>\\nList 5 UK politicians born in London\\n\\n<ORIGINAL_RESPONSE>\\n1. Boris Johnson 2. David Cameron 3. Sadiq Khan 4. Jeremy Corbyn 5. Theresa May\\n\\n<VERIFIED_SOURCE>\\nQuestion: Was Boris Johnson born in London?\\nAnswer: No, Boris Johnson was born in New York City, United States.\\n\\nQuestion: Was David Cameron born in London?\\nAnswer: Yes, David Cameron was born in London, England.\\n\\nQuestion: Was Sadiq Khan born in London?\\nAnswer: Yes, Sadiq Khan was born in London, England.\\n\\nQuestion: Was Jeremy Corbyn born in London?\\nAnswer: No, Jeremy Corbyn was not born in London. He was born in Chippenham, England.\\n\\nQuestion: Was Theresa May born in London?\\nAnswer: No, Theresa May was born on October 1, 1956 in Eastbourne, Sussex, England.\\n\\n\\n\\nFinal response:\"\n",
            "  ]\n",
            "}\n",
            "\u001b[36;1m\u001b[1;3m[llm/end]\u001b[0m \u001b[1m[1:chain:LLMChain > 2:llm:ChatOpenAI] [822ms] Exiting LLM run with output:\n",
            "\u001b[0m{\n",
            "  \"generations\": [\n",
            "    [\n",
            "      {\n",
            "        \"text\": \"1. David Cameron 2. Sadiq Khan\",\n",
            "        \"generation_info\": {\n",
            "          \"finish_reason\": \"stop\"\n",
            "        },\n",
            "        \"message\": {\n",
            "          \"lc\": 1,\n",
            "          \"type\": \"constructor\",\n",
            "          \"id\": [\n",
            "            \"langchain\",\n",
            "            \"schema\",\n",
            "            \"messages\",\n",
            "            \"AIMessage\"\n",
            "          ],\n",
            "          \"kwargs\": {\n",
            "            \"content\": \"1. David Cameron 2. Sadiq Khan\",\n",
            "            \"additional_kwargs\": {}\n",
            "          }\n",
            "        }\n",
            "      }\n",
            "    ]\n",
            "  ],\n",
            "  \"llm_output\": {\n",
            "    \"token_usage\": {\n",
            "      \"prompt_tokens\": 231,\n",
            "      \"completion_tokens\": 11,\n",
            "      \"total_tokens\": 242\n",
            "    },\n",
            "    \"model_name\": \"gpt-4\"\n",
            "  },\n",
            "  \"run\": null\n",
            "}\n",
            "\u001b[36;1m\u001b[1;3m[chain/end]\u001b[0m \u001b[1m[1:chain:LLMChain] [824ms] Exiting Chain run with output:\n",
            "\u001b[0m{\n",
            "  \"text\": \"1. David Cameron 2. Sadiq Khan\"\n",
            "}\n"
          ]
        }
      ]
    },
    {
      "cell_type": "code",
      "source": [
        "intermediate_result.base_response"
      ],
      "metadata": {
        "colab": {
          "base_uri": "https://localhost:8080/",
          "height": 35
        },
        "id": "7VCMcNwD70jC",
        "outputId": "4bebd5f7-6061-4649-aa02-c2d3dc4a6f96"
      },
      "execution_count": null,
      "outputs": [
        {
          "output_type": "execute_result",
          "data": {
            "text/plain": [
              "'1. Boris Johnson 2. David Cameron 3. Sadiq Khan 4. Jeremy Corbyn 5. Theresa May'"
            ],
            "application/vnd.google.colaboratory.intrinsic+json": {
              "type": "string"
            }
          },
          "metadata": {},
          "execution_count": 17
        }
      ]
    },
    {
      "cell_type": "code",
      "source": [
        "final_response"
      ],
      "metadata": {
        "colab": {
          "base_uri": "https://localhost:8080/",
          "height": 35
        },
        "id": "PljliqJh72a_",
        "outputId": "4efcc6fa-49dd-4b6c-c08d-0bbcaf7f8a09"
      },
      "execution_count": null,
      "outputs": [
        {
          "output_type": "execute_result",
          "data": {
            "text/plain": [
              "'1. David Cameron 2. Sadiq Khan'"
            ],
            "application/vnd.google.colaboratory.intrinsic+json": {
              "type": "string"
            }
          },
          "metadata": {},
          "execution_count": 18
        }
      ]
    }
  ]
}